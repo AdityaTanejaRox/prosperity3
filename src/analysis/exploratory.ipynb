{
 "cells": [
  {
   "cell_type": "code",
   "execution_count": 21,
   "id": "0118d3c3",
   "metadata": {},
   "outputs": [],
   "source": [
    "import sys\n",
    "import os\n",
    "\n",
    "# Use the current working directory (should be /path/to/prosperity3/analysis)\n",
    "project_root = os.path.abspath(os.path.join(os.getcwd(), '..'))\n",
    "sys.path.append(project_root)"
   ]
  },
  {
   "cell_type": "code",
   "execution_count": null,
   "id": "08fbf82c",
   "metadata": {},
   "outputs": [
    {
     "ename": "FileNotFoundError",
     "evalue": "Trades file not found for round 1, day 0",
     "output_type": "error",
     "traceback": [
      "\u001b[1;31m---------------------------------------------------------------------------\u001b[0m",
      "\u001b[1;31mFileNotFoundError\u001b[0m                         Traceback (most recent call last)",
      "Input \u001b[1;32mIn [23]\u001b[0m, in \u001b[0;36m<cell line: 11>\u001b[1;34m()\u001b[0m\n\u001b[0;32m      9\u001b[0m \u001b[38;5;66;03m# Load data\u001b[39;00m\n\u001b[0;32m     10\u001b[0m prices \u001b[38;5;241m=\u001b[39m get_prices(ROUND, DAY)\n\u001b[1;32m---> 11\u001b[0m trades \u001b[38;5;241m=\u001b[39m \u001b[43mget_trades\u001b[49m\u001b[43m(\u001b[49m\u001b[43mROUND\u001b[49m\u001b[43m,\u001b[49m\u001b[43m \u001b[49m\u001b[43mDAY\u001b[49m\u001b[43m)\u001b[49m\n\u001b[0;32m     13\u001b[0m \u001b[38;5;66;03m# Display head\u001b[39;00m\n\u001b[0;32m     14\u001b[0m prices\u001b[38;5;241m.\u001b[39mhead()\n",
      "File \u001b[1;32mc:\\Users\\Maya\\Desktop\\DEPAUL\\prosperity3\\src\\utils\\data_loader.py:15\u001b[0m, in \u001b[0;36mget_trades\u001b[1;34m(round_num, day_num)\u001b[0m\n\u001b[0;32m     13\u001b[0m     \u001b[38;5;28;01mif\u001b[39;00m path\u001b[38;5;241m.\u001b[39mis_file():\n\u001b[0;32m     14\u001b[0m         \u001b[38;5;28;01mreturn\u001b[39;00m pd\u001b[38;5;241m.\u001b[39mread_csv(path, sep\u001b[38;5;241m=\u001b[39m\u001b[38;5;124m\"\u001b[39m\u001b[38;5;124m;\u001b[39m\u001b[38;5;124m\"\u001b[39m)\n\u001b[1;32m---> 15\u001b[0m \u001b[38;5;28;01mraise\u001b[39;00m \u001b[38;5;167;01mFileNotFoundError\u001b[39;00m(\u001b[38;5;124mf\u001b[39m\u001b[38;5;124m\"\u001b[39m\u001b[38;5;124mTrades file not found for round \u001b[39m\u001b[38;5;132;01m{\u001b[39;00mround_num\u001b[38;5;132;01m}\u001b[39;00m\u001b[38;5;124m, day \u001b[39m\u001b[38;5;132;01m{\u001b[39;00mday_num\u001b[38;5;132;01m}\u001b[39;00m\u001b[38;5;124m\"\u001b[39m)\n",
      "\u001b[1;31mFileNotFoundError\u001b[0m: Trades file not found for round 1, day 0"
     ]
    }
   ],
   "source": [
    "import pandas as pd\n",
    "import matplotlib.pyplot as plt\n",
    "import seaborn as sns\n",
    "from utils.data_loader import get_prices, get_trades\n",
    "\n",
    "ROUND = 1\n",
    "DAY = 0\n",
    "\n",
    "# Load data\n",
    "prices = get_prices(ROUND, DAY)\n",
    "trades = get_trades(ROUND, DAY)\n",
    "\n",
    "# Display head\n",
    "prices.head()\n"
   ]
  },
  {
   "cell_type": "code",
   "execution_count": 10,
   "id": "aa9ef965",
   "metadata": {},
   "outputs": [
    {
     "data": {
      "image/png": "[encoded data removed]",
      "text/plain": [
       "<Figure size 864x360 with 1 Axes>"
      ]
     },
     "metadata": {
      "needs_background": "light"
     },
     "output_type": "display_data"
    }
   ],
   "source": [
    "# Calculate spread per row\n",
    "prices[\"spread\"] = prices[\"ask_price_1\"] - prices[\"bid_price_1\"]\n",
    "\n",
    "# Plot spread over time for a product (e.g., AMETHYSTS)\n",
    "amethysts = prices[prices[\"product\"] == \"AMETHYSTS\"]\n",
    "plt.figure(figsize=(12, 5))\n",
    "plt.plot(amethysts[\"timestamp\"], amethysts[\"spread\"])\n",
    "plt.title(\"AMETHYSTS Bid-Ask Spread Over Time\")\n",
    "plt.xlabel(\"Timestamp\")\n",
    "plt.ylabel(\"Spread\")\n",
    "plt.grid(True)\n",
    "plt.show()\n"
   ]
  },
  {
   "cell_type": "code",
   "execution_count": 11,
   "id": "050c91f5",
   "metadata": {},
   "outputs": [
    {
     "ename": "NameError",
     "evalue": "name 'trades' is not defined",
     "output_type": "error",
     "traceback": [
      "\u001b[1;31m---------------------------------------------------------------------------\u001b[0m",
      "\u001b[1;31mNameError\u001b[0m                                 Traceback (most recent call last)",
      "Input \u001b[1;32mIn [11]\u001b[0m, in \u001b[0;36m<cell line: 1>\u001b[1;34m()\u001b[0m\n\u001b[1;32m----> 1\u001b[0m trade_volume \u001b[38;5;241m=\u001b[39m \u001b[43mtrades\u001b[49m\u001b[38;5;241m.\u001b[39mgroupby(\u001b[38;5;124m\"\u001b[39m\u001b[38;5;124mproduct\u001b[39m\u001b[38;5;124m\"\u001b[39m)[\u001b[38;5;124m\"\u001b[39m\u001b[38;5;124mquantity\u001b[39m\u001b[38;5;124m\"\u001b[39m]\u001b[38;5;241m.\u001b[39msum()\u001b[38;5;241m.\u001b[39msort_values(ascending\u001b[38;5;241m=\u001b[39m\u001b[38;5;28;01mFalse\u001b[39;00m)\n\u001b[0;32m      3\u001b[0m sns\u001b[38;5;241m.\u001b[39mbarplot(x\u001b[38;5;241m=\u001b[39mtrade_volume\u001b[38;5;241m.\u001b[39mindex, y\u001b[38;5;241m=\u001b[39mtrade_volume\u001b[38;5;241m.\u001b[39mvalues)\n\u001b[0;32m      4\u001b[0m plt\u001b[38;5;241m.\u001b[39mtitle(\u001b[38;5;124m\"\u001b[39m\u001b[38;5;124mTotal Trade Volume per Product\u001b[39m\u001b[38;5;124m\"\u001b[39m)\n",
      "\u001b[1;31mNameError\u001b[0m: name 'trades' is not defined"
     ]
    }
   ],
   "source": [
    "trade_volume = trades.groupby(\"product\")[\"quantity\"].sum().sort_values(ascending=False)\n",
    "\n",
    "sns.barplot(x=trade_volume.index, y=trade_volume.values)\n",
    "plt.title(\"Total Trade Volume per Product\")\n",
    "plt.ylabel(\"Volume\")\n",
    "plt.xticks(rotation=45)\n",
    "plt.tight_layout()\n",
    "plt.show()\n"
   ]
  },
  {
   "cell_type": "code",
   "execution_count": null,
   "id": "c86826cd",
   "metadata": {},
   "outputs": [],
   "source": [
    "plt.figure(figsize=(12, 5))\n",
    "plt.plot(amethysts[\"timestamp\"], amethysts[\"mid_price\"])\n",
    "plt.title(\"AMETHYSTS Mid Price Over Time\")\n",
    "plt.xlabel(\"Timestamp\")\n",
    "plt.ylabel(\"Price\")\n",
    "plt.grid(True)\n",
    "plt.show()\n",
    "prices[\"mid_price\"] = (prices[\"ask_price_1\"] + prices[\"bid_price_1\"]) / 2\n"
   ]
  },
  {
   "cell_type": "code",
   "execution_count": null,
   "id": "6c851b09",
   "metadata": {},
   "outputs": [],
   "source": []
  }
 ],
 "metadata": {
  "kernelspec": {
   "display_name": "base",
   "language": "python",
   "name": "python3"
  },
  "language_info": {
   "codemirror_mode": {
    "name": "ipython",
    "version": 3
   },
   "file_extension": ".py",
   "mimetype": "text/x-python",
   "name": "python",
   "nbconvert_exporter": "python",
   "pygments_lexer": "ipython3",
   "version": "3.9.12"
  }
 },
 "nbformat": 4,
 "nbformat_minor": 5
}
